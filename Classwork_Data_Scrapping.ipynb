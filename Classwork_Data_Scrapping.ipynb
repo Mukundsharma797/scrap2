{
  "nbformat": 4,
  "nbformat_minor": 0,
  "metadata": {
    "colab": {
      "provenance": []
    },
    "kernelspec": {
      "name": "python3",
      "display_name": "Python 3"
    },
    "language_info": {
      "name": "python"
    }
  },
  "cells": [
    {
      "cell_type": "markdown",
      "source": [
        "# 1. Scraping Data from IMDB \"List of Movies and Castings\""
      ],
      "metadata": {
        "id": "nPjkbC6T96QL"
      }
    },
    {
      "cell_type": "code",
      "execution_count": 43,
      "metadata": {
        "id": "HAA-k2zR9scu"
      },
      "outputs": [],
      "source": [
        "import requests\n",
        "from bs4 import BeautifulSoup\n",
        "import pandas as pd"
      ]
    },
    {
      "cell_type": "code",
      "source": [
        "headers = {\n",
        "    'User-Agent': 'Mozilla/5.0 (Windows NT 6.1) AppleWebKit/537.36 (KHTML, like Gecko) Chrome/41.0.2228.0 Safari/537.36'\n",
        "}"
      ],
      "metadata": {
        "id": "Pba7Ea7LA_6Q"
      },
      "execution_count": 44,
      "outputs": []
    },
    {
      "cell_type": "code",
      "source": [
        "url = \"https://www.imdb.com/chart/top/\""
      ],
      "metadata": {
        "id": "AcBCQ5tE9w3W"
      },
      "execution_count": 45,
      "outputs": []
    },
    {
      "cell_type": "code",
      "source": [
        "response=requests.get(url,headers=headers)"
      ],
      "metadata": {
        "id": "OAu7HAv594Sc"
      },
      "execution_count": 46,
      "outputs": []
    },
    {
      "cell_type": "code",
      "source": [
        "soup = BeautifulSoup(response.content, 'html.parser')"
      ],
      "metadata": {
        "id": "RL78xDFV_7Ku"
      },
      "execution_count": 47,
      "outputs": []
    },
    {
      "cell_type": "code",
      "source": [
        "soup.select('h3',class_='ipc-title__text')"
      ],
      "metadata": {
        "colab": {
          "base_uri": "https://localhost:8080/"
        },
        "id": "vf_sDLWD_-Nr",
        "outputId": "d6fc686b-2053-4e49-f005-83d4d57e50f5"
      },
      "execution_count": 48,
      "outputs": [
        {
          "output_type": "execute_result",
          "data": {
            "text/plain": [
              "[<h3 class=\"ipc-title__text\">IMDb Charts</h3>,\n",
              " <h3 class=\"ipc-title__text\">1. The Shawshank Redemption</h3>,\n",
              " <h3 class=\"ipc-title__text\">2. The Godfather</h3>,\n",
              " <h3 class=\"ipc-title__text\">3. The Dark Knight</h3>,\n",
              " <h3 class=\"ipc-title__text\">4. The Godfather Part II</h3>,\n",
              " <h3 class=\"ipc-title__text\">5. 12 Angry Men</h3>,\n",
              " <h3 class=\"ipc-title__text\">6. Schindler's List</h3>,\n",
              " <h3 class=\"ipc-title__text\">7. The Lord of the Rings: The Return of the King</h3>,\n",
              " <h3 class=\"ipc-title__text\">8. Pulp Fiction</h3>,\n",
              " <h3 class=\"ipc-title__text\">9. The Lord of the Rings: The Fellowship of the Ring</h3>,\n",
              " <h3 class=\"ipc-title__text\">10. The Good, the Bad and the Ugly</h3>,\n",
              " <h3 class=\"ipc-title__text\">11. Forrest Gump</h3>,\n",
              " <h3 class=\"ipc-title__text\">12. The Lord of the Rings: The Two Towers</h3>,\n",
              " <h3 class=\"ipc-title__text\">13. Fight Club</h3>,\n",
              " <h3 class=\"ipc-title__text\">14. Inception</h3>,\n",
              " <h3 class=\"ipc-title__text\">15. Star Wars: Episode V - The Empire Strikes Back</h3>,\n",
              " <h3 class=\"ipc-title__text\">16. The Matrix</h3>,\n",
              " <h3 class=\"ipc-title__text\">17. Goodfellas</h3>,\n",
              " <h3 class=\"ipc-title__text\">18. One Flew Over the Cuckoo's Nest</h3>,\n",
              " <h3 class=\"ipc-title__text\">19. Se7en</h3>,\n",
              " <h3 class=\"ipc-title__text\">20. Interstellar</h3>,\n",
              " <h3 class=\"ipc-title__text\">21. It's a Wonderful Life</h3>,\n",
              " <h3 class=\"ipc-title__text\">22. Seven Samurai</h3>,\n",
              " <h3 class=\"ipc-title__text\">23. The Silence of the Lambs</h3>,\n",
              " <h3 class=\"ipc-title__text\">24. Saving Private Ryan</h3>,\n",
              " <h3 class=\"ipc-title__text\">25. City of God</h3>,\n",
              " <h3 class=\"ipc-title__text\">Recently viewed</h3>]"
            ]
          },
          "metadata": {},
          "execution_count": 48
        }
      ]
    },
    {
      "cell_type": "code",
      "source": [
        "movies = []\n",
        "\n",
        "for i in soup.select('h3',class_='ipc-title__text'):\n",
        "    movies.append(i.text)"
      ],
      "metadata": {
        "id": "OzH3ItV4AA45"
      },
      "execution_count": 49,
      "outputs": []
    },
    {
      "cell_type": "code",
      "source": [
        "movies"
      ],
      "metadata": {
        "colab": {
          "base_uri": "https://localhost:8080/"
        },
        "id": "4199yPqC-CUV",
        "outputId": "9354ada7-e077-4230-e29e-c4d63a0db30a"
      },
      "execution_count": 50,
      "outputs": [
        {
          "output_type": "execute_result",
          "data": {
            "text/plain": [
              "['IMDb Charts',\n",
              " '1. The Shawshank Redemption',\n",
              " '2. The Godfather',\n",
              " '3. The Dark Knight',\n",
              " '4. The Godfather Part II',\n",
              " '5. 12 Angry Men',\n",
              " \"6. Schindler's List\",\n",
              " '7. The Lord of the Rings: The Return of the King',\n",
              " '8. Pulp Fiction',\n",
              " '9. The Lord of the Rings: The Fellowship of the Ring',\n",
              " '10. The Good, the Bad and the Ugly',\n",
              " '11. Forrest Gump',\n",
              " '12. The Lord of the Rings: The Two Towers',\n",
              " '13. Fight Club',\n",
              " '14. Inception',\n",
              " '15. Star Wars: Episode V - The Empire Strikes Back',\n",
              " '16. The Matrix',\n",
              " '17. Goodfellas',\n",
              " \"18. One Flew Over the Cuckoo's Nest\",\n",
              " '19. Se7en',\n",
              " '20. Interstellar',\n",
              " \"21. It's a Wonderful Life\",\n",
              " '22. Seven Samurai',\n",
              " '23. The Silence of the Lambs',\n",
              " '24. Saving Private Ryan',\n",
              " '25. City of God',\n",
              " 'Recently viewed']"
            ]
          },
          "metadata": {},
          "execution_count": 50
        }
      ]
    },
    {
      "cell_type": "markdown",
      "source": [
        "# 2. Scraping Data from Wikipedia \"List of states and territories of the United States\""
      ],
      "metadata": {
        "id": "f2GlPgwTBuVI"
      }
    },
    {
      "cell_type": "code",
      "source": [
        "url2 = \"https://en.wikipedia.org/wiki/List_of_states_and_territories_of_the_United_States\"\n"
      ],
      "metadata": {
        "id": "tQkd7wRD_pSB"
      },
      "execution_count": 52,
      "outputs": []
    },
    {
      "cell_type": "code",
      "source": [
        "response2 = requests.get(url2)"
      ],
      "metadata": {
        "id": "fqdU7rVPCFGZ"
      },
      "execution_count": 53,
      "outputs": []
    },
    {
      "cell_type": "code",
      "source": [
        "soup = BeautifulSoup(response2.content, 'html.parser')"
      ],
      "metadata": {
        "id": "sCnufEq-Ae3z"
      },
      "execution_count": 54,
      "outputs": []
    },
    {
      "cell_type": "code",
      "source": [
        "table = soup.find('table', {'class': 'wikitable sortable plainrowheaders'})"
      ],
      "metadata": {
        "id": "2R6psD5WAjyU"
      },
      "execution_count": 55,
      "outputs": []
    },
    {
      "cell_type": "code",
      "source": [
        "headers = [header.text.strip() for header in table.find_all('th')]"
      ],
      "metadata": {
        "id": "UhbsMcDqCQpE"
      },
      "execution_count": 56,
      "outputs": []
    },
    {
      "cell_type": "code",
      "source": [
        "rows = []\n",
        "\n",
        "for row in table.find_all('tr')[1:]:\n",
        "  columns = row.find_all(['th', 'td'])\n",
        "  row_data = [column.text.strip() for column in columns]\n",
        "\n",
        "  if row_data:  # Only append non-empty rows\n",
        "      rows.append(row_data)"
      ],
      "metadata": {
        "id": "pUfQaVruCSsI"
      },
      "execution_count": 57,
      "outputs": []
    },
    {
      "cell_type": "code",
      "source": [
        "rows"
      ],
      "metadata": {
        "colab": {
          "base_uri": "https://localhost:8080/"
        },
        "id": "tOY4PPcJCerS",
        "outputId": "35b8da7a-7b32-4fa7-d496-2de76e2c7b20"
      },
      "execution_count": 58,
      "outputs": [
        {
          "output_type": "execute_result",
          "data": {
            "text/plain": [
              "[['mi2', 'km2'],\n",
              " ['American Samoa',\n",
              "  'AS',\n",
              "  'Pago Pago[18]',\n",
              "  '1900',\n",
              "  'Unincorporated, unorganized[D]',\n",
              "  '49,710',\n",
              "  '581',\n",
              "  '1,505',\n",
              "  '1[C]'],\n",
              " ['Guam',\n",
              "  'GU',\n",
              "  'Hagåtña[20]',\n",
              "  '1899',\n",
              "  'Unincorporated, organized',\n",
              "  '153,836',\n",
              "  '571',\n",
              "  '1,478',\n",
              "  '1[C]'],\n",
              " ['Northern Mariana Islands',\n",
              "  'MP',\n",
              "  'Saipan[21]',\n",
              "  '1986',\n",
              "  'Unincorporated, organized[E]',\n",
              "  '47,329',\n",
              "  '1,976',\n",
              "  '5,117',\n",
              "  '1[C]'],\n",
              " ['Puerto Rico',\n",
              "  'PR',\n",
              "  'San Juan[22]',\n",
              "  '1899',\n",
              "  'Unincorporated, organized[E]',\n",
              "  '3,285,874',\n",
              "  '5,325',\n",
              "  '13,791',\n",
              "  '1[F]'],\n",
              " ['U.S. Virgin Islands',\n",
              "  'VI',\n",
              "  'Charlotte Amalie[23]',\n",
              "  '1917',\n",
              "  'Unincorporated, organized',\n",
              "  '87,146',\n",
              "  '733',\n",
              "  '1,898',\n",
              "  '1[C]']]"
            ]
          },
          "metadata": {},
          "execution_count": 58
        }
      ]
    },
    {
      "cell_type": "code",
      "source": [],
      "metadata": {
        "id": "LQzhOoYhCf4Y"
      },
      "execution_count": null,
      "outputs": []
    }
  ]
}